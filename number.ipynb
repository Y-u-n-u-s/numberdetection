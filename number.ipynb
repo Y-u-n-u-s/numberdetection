{
 "cells": [
  {
   "cell_type": "code",
   "execution_count": 149,
   "metadata": {},
   "outputs": [],
   "source": [
    "from scipy import io\n",
    "import numpy as np\n",
    "from sklearn.model_selection import train_test_split\n",
    "# from PIL import Image as im\n",
    "from statistics import mean \n",
    "import math\n",
    "import cv2"
   ]
  },
  {
   "cell_type": "code",
   "execution_count": 150,
   "metadata": {},
   "outputs": [],
   "source": [
    "mydata = io.loadmat('data/ex3data1.mat')\n",
    "X = mydata['X']\n",
    "y = mydata['y']\n",
    "m = y.shape[0]\n",
    "lmd = 2\n",
    "X_train, X_test,y_train,y_test = train_test_split(X,y,test_size=0.2)"
   ]
  },
  {
   "cell_type": "code",
   "execution_count": 151,
   "metadata": {},
   "outputs": [],
   "source": [
    "X_train = np.append(np.ones((X_train.shape[0],1)),X_train,axis = 1)\n",
    "X_test = np.append(np.ones((X_test.shape[0],1)),X_test,axis = 1)\n",
    "# print(X_test.shape)\n"
   ]
  },
  {
   "cell_type": "code",
   "execution_count": 152,
   "metadata": {},
   "outputs": [],
   "source": [
    "n = X_train.shape[1]\n",
    "initial_theta = np.zeros((401,1))\n",
    "# initial_theta.shape\n",
    "# print(X.shape)"
   ]
  },
  {
   "cell_type": "code",
   "execution_count": 153,
   "metadata": {},
   "outputs": [],
   "source": [
    "def sigmoid(X_t,theta):\n",
    "    expo = np.vectorize(math.exp)\n",
    "    h = np.divide(1,(np.add(1,expo(np.negative(np.dot(X_t,theta))))))\n",
    "    return h"
   ]
  },
  {
   "cell_type": "code",
   "execution_count": 154,
   "metadata": {},
   "outputs": [],
   "source": [
    "def gradientDescent(X_t,y_t,theta):\n",
    "    for i in range(50):\n",
    "        # print(theta[0:].shape)\n",
    "        # print(X_t[0].shape)\n",
    "        # theta[0] =theta[0]- \n",
    "        # print(np.transpose(np.multiply((0.1/m),np.dot(np.transpose(np.subtract(sigmoid(X_t,theta),y_t)),X_t[:0]))))\n",
    "        theta = theta - (np.transpose(np.multiply((0.1/m),np.dot(np.transpose(np.subtract(sigmoid(X_t,theta),y_t)),X_t)))+(lmd/m)*theta)\n",
    "        # print(theta[0].shape,X_t[:,0].shape,X_t.shape)\n",
    "        theta[0] = theta[0] - np.transpose(np.multiply((0.1/m),np.dot(np.transpose(np.subtract(sigmoid(X_t,theta),y_t)),X_t[:,[0]])))\n",
    "    return theta"
   ]
  },
  {
   "cell_type": "code",
   "execution_count": 155,
   "metadata": {},
   "outputs": [],
   "source": [
    "def oneVsAll(X_t,y_t):\n",
    "    all_theta = np.empty((401,0))\n",
    "    for i in range(1,11):\n",
    "        theta = gradientDescent(X_t,(y_t==i),initial_theta)\n",
    "        all_theta = np.append(all_theta,theta,axis=1)\n",
    "    return all_theta"
   ]
  },
  {
   "cell_type": "code",
   "execution_count": 156,
   "metadata": {},
   "outputs": [],
   "source": [
    "def costFunc(X_t,y_t,theta):\n",
    "    \n",
    "    # h = np.divide(1,(np.add(1,expo(np.negative(np.dot(X_t,theta))))))\n",
    "    h = sigmoid(X_t,theta)\n",
    "    # print(y_t.shape,h.shape)\n",
    "    j = np.multiply((1/m),np.dot(np.transpose(np.negative(y_t)),np.log(h))-np.dot(np.transpose(np.subtract(1,y_t)),np.log(np.subtract(1,h))))+(lmd/(2*m))*(sum(np.square(theta[1:])))\n",
    "    return j\n"
   ]
  },
  {
   "cell_type": "code",
   "execution_count": 157,
   "metadata": {},
   "outputs": [],
   "source": [
    "all_theta = oneVsAll(X_train,y_train)"
   ]
  },
  {
   "cell_type": "code",
   "execution_count": 158,
   "metadata": {},
   "outputs": [
    {
     "data": {
      "text/plain": [
       "(401, 10)"
      ]
     },
     "execution_count": 158,
     "metadata": {},
     "output_type": "execute_result"
    }
   ],
   "source": [
    "all_theta.shape"
   ]
  },
  {
   "cell_type": "code",
   "execution_count": 159,
   "metadata": {},
   "outputs": [],
   "source": [
    "def predict(X_t):\n",
    "    p = np.dot(X_t,all_theta)\n",
    "    val = np.max(p,axis=1)\n",
    "    result= []\n",
    "    for i,j in enumerate(p):\n",
    "        result.append(np.where(j==val[i])[0]+1)\n",
    "    return result\n"
   ]
  },
  {
   "cell_type": "code",
   "execution_count": 160,
   "metadata": {},
   "outputs": [
    {
     "data": {
      "text/plain": [
       "83.0"
      ]
     },
     "execution_count": 160,
     "metadata": {},
     "output_type": "execute_result"
    }
   ],
   "source": [
    "pred = predict(X_test)\n",
    "x = list(map(int,pred == y_test))\n",
    "mean(x)*100\n",
    "# print(pred)"
   ]
  }
 ],
 "metadata": {
  "interpreter": {
   "hash": "4f8a3d2916bacc8bce93e0d81c5aca4767f78ec50220e469d83e7e5124d6c0f3"
  },
  "kernelspec": {
   "display_name": "Python 3.10.3 64-bit",
   "language": "python",
   "name": "python3"
  },
  "language_info": {
   "codemirror_mode": {
    "name": "ipython",
    "version": 3
   },
   "file_extension": ".py",
   "mimetype": "text/x-python",
   "name": "python",
   "nbconvert_exporter": "python",
   "pygments_lexer": "ipython3",
   "version": "3.10.3"
  },
  "orig_nbformat": 4
 },
 "nbformat": 4,
 "nbformat_minor": 2
}
